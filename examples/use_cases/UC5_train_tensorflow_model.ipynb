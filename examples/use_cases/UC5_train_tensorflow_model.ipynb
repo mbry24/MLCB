{
 "cells": [
  {
   "cell_type": "markdown",
   "metadata": {},
   "source": [
    "### [UC5] Train tensorflow model with hyperparameters\n"
   ]
  },
  {
   "cell_type": "markdown",
   "metadata": {},
   "source": [
    "1. Load dataset"
   ]
  },
  {
   "cell_type": "code",
   "execution_count": 1,
   "metadata": {},
   "outputs": [],
   "source": [
    "from sklearn.datasets import load_wine\n",
    "from sklearn.model_selection import train_test_split\n",
    "\n",
    "X, y = load_wine(return_X_y=True)\n",
    "X_train, X_test, y_train, y_test = train_test_split(X, y, test_size=0.2, random_state=42, shuffle=True)"
   ]
  },
  {
   "cell_type": "markdown",
   "metadata": {},
   "source": [
    "2. Define experiment parameters"
   ]
  },
  {
   "cell_type": "code",
   "execution_count": 2,
   "metadata": {},
   "outputs": [],
   "source": [
    "from mlcb.models.tabular.tensorflow import TensorflowConvolutionalNetworkTunable\n",
    "\n",
    "\n",
    "EXPERIMENT_NAME = 'UC5_train_tensorflow_learn_model'\n",
    "TUNING_TRIALS = 50\n",
    "classifier = TensorflowConvolutionalNetworkTunable(X_train, y_train, X_test, y_test)\n",
    "\n",
    "hyperparameters =  {\n",
    "            'n_layers': 5,\n",
    "            'filters': 16,\n",
    "            'kernel_size': 3,\n",
    "            'activation': 'relu',\n",
    "            'dropout_rate': 0.2,\n",
    "            'optimizer': 'Adam',\n",
    "            'learning_rate': 1e-4,\n",
    "            'batch_size': 128,\n",
    "        }"
   ]
  },
  {
   "cell_type": "markdown",
   "metadata": {},
   "source": [
    "3. Run training"
   ]
  },
  {
   "cell_type": "code",
   "execution_count": null,
   "metadata": {},
   "outputs": [],
   "source": [
    "classifier.train(experiment_name=EXPERIMENT_NAME, hyperparameters=hyperparameters)"
   ]
  },
  {
   "cell_type": "markdown",
   "metadata": {},
   "source": [
    "4. Analyze training process\n",
    "\n",
    "Tuning statistics are available on address: http://127.0.0.1:5000/."
   ]
  },
  {
   "cell_type": "markdown",
   "metadata": {},
   "source": [
    "5. Close MLFlow for this experiment"
   ]
  },
  {
   "cell_type": "code",
   "execution_count": null,
   "metadata": {},
   "outputs": [],
   "source": [
    "classifier.logger._close_mlflow()"
   ]
  }
 ],
 "metadata": {
  "kernelspec": {
   "display_name": "Python 3",
   "language": "python",
   "name": "python3"
  },
  "language_info": {
   "codemirror_mode": {
    "name": "ipython",
    "version": 3
   },
   "file_extension": ".py",
   "mimetype": "text/x-python",
   "name": "python",
   "nbconvert_exporter": "python",
   "pygments_lexer": "ipython3",
   "version": "3.12.4"
  }
 },
 "nbformat": 4,
 "nbformat_minor": 2
}
