{
 "cells": [
  {
   "cell_type": "markdown",
   "metadata": {},
   "source": [
    "### [UC10] Tune pytorch geometrics classifier hyperparameters"
   ]
  },
  {
   "cell_type": "markdown",
   "metadata": {},
   "source": [
    "1. Load custom dataset (prepared for my own usecase) based on networkx graphs"
   ]
  },
  {
   "cell_type": "code",
   "execution_count": 1,
   "metadata": {},
   "outputs": [],
   "source": [
    "import numpy as np\n",
    "from mlcb.base_classes.pytorch.NetworkxGraphDataset import NetworkxGraphDataset\n",
    "\n",
    "train_dataset = NetworkxGraphDataset('../data/AIDS/AIDS_dataset.pkl', split='train')\n",
    "test_dataset = NetworkxGraphDataset('../data/AIDS/AIDS_dataset.pkl', split='test')\n",
    "num_node_features = train_dataset.num_node_features\n",
    "\n",
    "train_labels = np.array([data.y.item() for data in train_dataset])\n",
    "test_labels =  np.array([data.y.item() for data in test_dataset])"
   ]
  },
  {
   "cell_type": "markdown",
   "metadata": {},
   "source": [
    "1.1. As alternative load lib dataset"
   ]
  },
  {
   "cell_type": "code",
   "execution_count": 2,
   "metadata": {},
   "outputs": [],
   "source": [
    "import torch\n",
    "from torch_geometric.datasets import TUDataset\n",
    "\n",
    "dataset = TUDataset(root='../data/TUDataset', name='AIDS')\n",
    "num_node_features = dataset.num_node_features\n",
    "\n",
    "train_size = int(0.8 * len(dataset))\n",
    "test_size = len(dataset) - train_size\n",
    "\n",
    "train_dataset, test_dataset = torch.utils.data.random_split(dataset, [train_size, test_size])\n",
    "train_labels = [data.y.item() for data in train_dataset]\n",
    "test_labels = [data.y.item() for data in test_dataset]"
   ]
  },
  {
   "cell_type": "markdown",
   "metadata": {},
   "source": [
    "2. Define experiment parameters"
   ]
  },
  {
   "cell_type": "code",
   "execution_count": 4,
   "metadata": {},
   "outputs": [],
   "source": [
    "from mlcb.models.graph.pytorch import GatNetworkTunable\n",
    "\n",
    "EXPERIMENT_NAME = 'UC10_tune_pytorch_geometrics_model'\n",
    "TUNING_TRIALS = 50\n",
    "classifier = GatNetworkTunable(train_data=train_dataset, test_data=test_dataset,  train_labels=train_labels, test_labels=test_labels, num_node_features=num_node_features)"
   ]
  },
  {
   "cell_type": "markdown",
   "metadata": {},
   "source": [
    "3. Run tuning"
   ]
  },
  {
   "cell_type": "code",
   "execution_count": null,
   "metadata": {},
   "outputs": [],
   "source": [
    "classifier.tune(n_trials=TUNING_TRIALS, experiment_name=EXPERIMENT_NAME, log_nested=True)"
   ]
  },
  {
   "cell_type": "markdown",
   "metadata": {},
   "source": [
    "4. Analyze tuning process\n",
    "\n",
    "Tuning statistics are available on address: http://127.0.0.1:5000/."
   ]
  },
  {
   "cell_type": "markdown",
   "metadata": {},
   "source": [
    "5. Close MLFlow for this experiment"
   ]
  },
  {
   "cell_type": "code",
   "execution_count": null,
   "metadata": {},
   "outputs": [],
   "source": [
    "classifier.logger._close_mlflow()"
   ]
  }
 ],
 "metadata": {
  "kernelspec": {
   "display_name": ".venv",
   "language": "python",
   "name": "python3"
  },
  "language_info": {
   "codemirror_mode": {
    "name": "ipython",
    "version": 3
   },
   "file_extension": ".py",
   "mimetype": "text/x-python",
   "name": "python",
   "nbconvert_exporter": "python",
   "pygments_lexer": "ipython3",
   "version": "3.12.4"
  }
 },
 "nbformat": 4,
 "nbformat_minor": 2
}
