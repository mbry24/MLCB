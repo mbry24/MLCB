{
 "cells": [
  {
   "cell_type": "markdown",
   "metadata": {},
   "source": [
    "### [UC4] Train pytorch geometrics model with hyperparameters\n"
   ]
  },
  {
   "cell_type": "markdown",
   "metadata": {},
   "source": [
    "1. Load custom dataset (prepared for my own usecase) based on networkx graphs"
   ]
  },
  {
   "cell_type": "code",
   "execution_count": 1,
   "metadata": {},
   "outputs": [],
   "source": [
    "import numpy as np\n",
    "from mlcb.base_classes.pytorch.NetworkxGraphDataset import NetworkxGraphDataset\n",
    "\n",
    "train_dataset = NetworkxGraphDataset('../data/AIDS/AIDS_dataset.pkl', split='train')\n",
    "test_dataset = NetworkxGraphDataset('../data/AIDS/AIDS_dataset.pkl', split='test')\n",
    "num_node_features = train_dataset.num_node_features\n",
    "\n",
    "train_labels = np.array([data.y.item() for data in train_dataset])\n",
    "test_labels =  np.array([data.y.item() for data in test_dataset])"
   ]
  },
  {
   "cell_type": "markdown",
   "metadata": {},
   "source": [
    "1.1. As alternative load lib dataset"
   ]
  },
  {
   "cell_type": "code",
   "execution_count": null,
   "metadata": {},
   "outputs": [],
   "source": [
    "import torch\n",
    "from torch_geometric.datasets import TUDataset\n",
    "\n",
    "dataset = TUDataset(root='../data/TUDataset', name='AIDS')\n",
    "num_node_features = dataset.num_node_features\n",
    "\n",
    "train_size = int(0.8 * len(dataset))\n",
    "test_size = len(dataset) - train_size\n",
    "\n",
    "train_dataset, test_dataset = torch.utils.data.random_split(dataset, [train_size, test_size])\n",
    "train_labels = [data.y.item() for data in train_dataset]\n",
    "test_labels = [data.y.item() for data in test_dataset]"
   ]
  },
  {
   "cell_type": "markdown",
   "metadata": {},
   "source": [
    "2. Define experiment parameters"
   ]
  },
  {
   "cell_type": "code",
   "execution_count": 3,
   "metadata": {},
   "outputs": [],
   "source": [
    "from mlcb.models.graph.pytorch import GcnGatNetworkTunable\n",
    "\n",
    "EXPERIMENT_NAME = 'UC4_train_pytorch_geometrics_learn_model'\n",
    "TUNING_TRIALS = 50\n",
    "classifier = GcnGatNetworkTunable(train_dataset, test_dataset, train_labels, test_labels, num_node_features)\n",
    "\n",
    "hyperparameters =  {\n",
    "            'n_layers': 8,\n",
    "            'hidden_channels': 256,\n",
    "            'dropout_rate':0.2,\n",
    "            'heads': 16,\n",
    "            'activation': 'leaky_relu',\n",
    "            'optimizer': 'adam',\n",
    "            'learning_rate': 1e-4,\n",
    "            'batch_size': 32,\n",
    "        }"
   ]
  },
  {
   "cell_type": "markdown",
   "metadata": {},
   "source": [
    "3. Run training"
   ]
  },
  {
   "cell_type": "code",
   "execution_count": null,
   "metadata": {},
   "outputs": [],
   "source": [
    "classifier.train(experiment_name=EXPERIMENT_NAME, hyperparameters=hyperparameters)"
   ]
  },
  {
   "cell_type": "markdown",
   "metadata": {},
   "source": [
    "4. Analyze training process\n",
    "\n",
    "Tuning statistics are available on address: http://127.0.0.1:5000/."
   ]
  },
  {
   "cell_type": "markdown",
   "metadata": {},
   "source": [
    "5. Close MLFlow for this experiment"
   ]
  },
  {
   "cell_type": "code",
   "execution_count": null,
   "metadata": {},
   "outputs": [],
   "source": [
    "classifier.logger._close_mlflow()"
   ]
  }
 ],
 "metadata": {
  "kernelspec": {
   "display_name": "Python 3",
   "language": "python",
   "name": "python3"
  },
  "language_info": {
   "codemirror_mode": {
    "name": "ipython",
    "version": 3
   },
   "file_extension": ".py",
   "mimetype": "text/x-python",
   "name": "python",
   "nbconvert_exporter": "python",
   "pygments_lexer": "ipython3",
   "version": "3.12.4"
  }
 },
 "nbformat": 4,
 "nbformat_minor": 2
}
