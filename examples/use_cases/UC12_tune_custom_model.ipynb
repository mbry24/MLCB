{
 "cells": [
  {
   "cell_type": "markdown",
   "metadata": {},
   "source": [
    "[UC12] Tune custom classifier hyperparameters"
   ]
  },
  {
   "cell_type": "markdown",
   "metadata": {},
   "source": [
    "1. Define custom classifier"
   ]
  },
  {
   "cell_type": "code",
   "execution_count": 1,
   "metadata": {},
   "outputs": [],
   "source": [
    "from lightgbm import LGBMClassifier\n",
    "import mlflow\n",
    "import optuna\n",
    "import numpy as np\n",
    "from typing import Union, Dict\n",
    "from sklearn.pipeline import Pipeline\n",
    "\n",
    "from mlcb.base_classes.BaseTunableModel import BaseTunableModel\n",
    "\n",
    "class LGBMTunable(BaseTunableModel):\n",
    "    def _train(self, hyperparameters: Dict[str, Union[int, float, str]]) -> Pipeline:\n",
    "        model = LGBMClassifier(**hyperparameters)\n",
    "        model.fit(self.train_features, self.train_labels)\n",
    "        return model\n",
    "    \n",
    "    def _evaluate(self, model: Pipeline) -> Union[np.ndarray, np.ndarray]:\n",
    "        predictions = model.predict_proba(self.test_features)\n",
    "        return predictions\n",
    "\n",
    "    def _save_model(self, model: Pipeline, signature: Any) -> None:\n",
    "        \"\"\"\n",
    "        Saves the trained model using MLFlow.\n",
    "\n",
    "        Args:\n",
    "            model (Pipeline): The trained scikit-learn model to save.\n",
    "            signature (Any): The input/output signature for the model.\n",
    "        \"\"\"\n",
    "        mlflow.lightgbm.log_model(model, \"trained_best_model\", signature=signature)\n",
    "\n",
    "    def _suggest_hyperparameters(self, trial: optuna.Trial) -> Dict[str, Union[int, float, str]]:\n",
    "        return {\n",
    "            'num_leaves': trial.suggest_int('num_leaves', 31, 256),\n",
    "            'max_depth': trial.suggest_int('max_depth', -1, 16),\n",
    "            'learning_rate': trial.suggest_float('learning_rate', 1e-3, 1e-1, log=True),\n",
    "            'n_estimators': trial.suggest_int('n_estimators', 100, 1000),\n",
    "            'min_child_samples': trial.suggest_int('min_child_samples', 5, 100),\n",
    "            'subsample': trial.suggest_float('subsample', 0.4, 1.0),\n",
    "            'colsample_bytree': trial.suggest_float('colsample_bytree', 0.4, 1.0),\n",
    "            'reg_alpha': trial.suggest_float('reg_alpha', 1e-8, 1.0, log=True),\n",
    "            'reg_lambda': trial.suggest_float('reg_lambda', 1e-8, 1.0, log=True),\n",
    "            'min_data_in_leaf': trial.suggest_int('min_data_in_leaf', 1, 20),\n",
    "            'min_data_in_bin': trial.suggest_int('min_data_in_bin', 1, 20)\n",
    "        }"
   ]
  },
  {
   "cell_type": "markdown",
   "metadata": {},
   "source": [
    "1. Load dataset"
   ]
  },
  {
   "cell_type": "code",
   "execution_count": 2,
   "metadata": {},
   "outputs": [],
   "source": [
    "from sklearn.datasets import load_wine\n",
    "from sklearn.model_selection import train_test_split\n",
    "\n",
    "X, y = load_wine(return_X_y=True)\n",
    "X_train, X_test, y_train, y_test = train_test_split(X, y, test_size=0.2, random_state=42, shuffle=True)"
   ]
  },
  {
   "cell_type": "markdown",
   "metadata": {},
   "source": [
    "2. Define experiment parameters"
   ]
  },
  {
   "cell_type": "code",
   "execution_count": 3,
   "metadata": {},
   "outputs": [
    {
     "ename": "TypeError",
     "evalue": "Can't instantiate abstract class LGBMTunable without an implementation for abstract methods '_evaluate', '_save_model', '_train'",
     "output_type": "error",
     "traceback": [
      "\u001b[1;31m---------------------------------------------------------------------------\u001b[0m",
      "\u001b[1;31mTypeError\u001b[0m                                 Traceback (most recent call last)",
      "Cell \u001b[1;32mIn[3], line 3\u001b[0m\n\u001b[0;32m      1\u001b[0m EXPERIMENT_NAME \u001b[38;5;241m=\u001b[39m \u001b[38;5;124m'\u001b[39m\u001b[38;5;124mUC12_tune_custom_model\u001b[39m\u001b[38;5;124m'\u001b[39m\n\u001b[0;32m      2\u001b[0m TUNING_TRIALS \u001b[38;5;241m=\u001b[39m \u001b[38;5;241m50\u001b[39m\n\u001b[1;32m----> 3\u001b[0m classifier \u001b[38;5;241m=\u001b[39m \u001b[43mLGBMTunable\u001b[49m\u001b[43m(\u001b[49m\u001b[43mX_train\u001b[49m\u001b[43m,\u001b[49m\u001b[43m \u001b[49m\u001b[43my_train\u001b[49m\u001b[43m,\u001b[49m\u001b[43m \u001b[49m\u001b[43mX_test\u001b[49m\u001b[43m,\u001b[49m\u001b[43m \u001b[49m\u001b[43my_test\u001b[49m\u001b[43m)\u001b[49m\n",
      "\u001b[1;31mTypeError\u001b[0m: Can't instantiate abstract class LGBMTunable without an implementation for abstract methods '_evaluate', '_save_model', '_train'"
     ]
    }
   ],
   "source": [
    "EXPERIMENT_NAME = 'UC12_tune_custom_model'\n",
    "TUNING_TRIALS = 50\n",
    "classifier = LGBMTunable(X_train, y_train, X_test, y_test)"
   ]
  },
  {
   "cell_type": "markdown",
   "metadata": {},
   "source": [
    "3. Run tuning"
   ]
  },
  {
   "cell_type": "code",
   "execution_count": null,
   "metadata": {},
   "outputs": [],
   "source": [
    "classifier.tune(n_trials=TUNING_TRIALS, experiment_name=EXPERIMENT_NAME, log_nested=True)"
   ]
  },
  {
   "cell_type": "markdown",
   "metadata": {},
   "source": [
    "4. Analyze tuning process\n",
    "\n",
    "Tuning statistics are available on address: http://127.0.0.1:5000/."
   ]
  },
  {
   "cell_type": "markdown",
   "metadata": {},
   "source": [
    "5. Close MLFlow for this experiment\n"
   ]
  },
  {
   "cell_type": "code",
   "execution_count": null,
   "metadata": {},
   "outputs": [],
   "source": [
    "classifier.logger._close_mlflow()"
   ]
  }
 ],
 "metadata": {
  "kernelspec": {
   "display_name": ".venv",
   "language": "python",
   "name": "python3"
  },
  "language_info": {
   "codemirror_mode": {
    "name": "ipython",
    "version": 3
   },
   "file_extension": ".py",
   "mimetype": "text/x-python",
   "name": "python",
   "nbconvert_exporter": "python",
   "pygments_lexer": "ipython3",
   "version": "3.12.4"
  }
 },
 "nbformat": 4,
 "nbformat_minor": 2
}
