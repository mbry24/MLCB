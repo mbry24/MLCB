{
 "cells": [
  {
   "cell_type": "markdown",
   "metadata": {},
   "source": [
    "### [UC6] Train custom model with hyperparameters\n"
   ]
  },
  {
   "cell_type": "markdown",
   "metadata": {},
   "source": [
    "1. Define custom classifier"
   ]
  },
  {
   "cell_type": "code",
   "execution_count": 1,
   "metadata": {},
   "outputs": [],
   "source": [
    "from lightgbm import LGBMClassifier\n",
    "import optuna\n",
    "import mlflow\n",
    "import numpy as np\n",
    "from typing import Any, Tuple, Union, Dict\n",
    "from sklearn.pipeline import Pipeline\n",
    "\n",
    "from mlcb.base_classes.BaseTunableModel import BaseTunableModel\n",
    "\n",
    "class LGBMTunable(BaseTunableModel):\n",
    "    def _train(self, hyperparameters: Dict[str, Union[int, float, str]]) -> Pipeline:\n",
    "        model = LGBMClassifier(**hyperparameters)\n",
    "        model.predict\n",
    "        model.fit(self.train_features, self.train_labels)\n",
    "        return model\n",
    "    \n",
    "    def _evaluate(self, model: Pipeline, dataset: str) -> Tuple[np.ndarray, np.ndarray]:\n",
    "\n",
    "        if dataset == 'train':\n",
    "            features = self.train_features\n",
    "        else:\n",
    "            features = self.test_features\n",
    "\n",
    "        probabilities = model.predict_proba(features)\n",
    "        predictions = model.predict(features)\n",
    "        return probabilities, predictions\n",
    "    \n",
    "    def _save_model(self, model: Pipeline, signature: Any) -> None:\n",
    "        \"\"\"\n",
    "        Saves the trained model using MLFlow.\n",
    "\n",
    "        Args:\n",
    "            model (Pipeline): The trained scikit-learn model to save.\n",
    "            signature (Any): The input/output signature for the model.\n",
    "        \"\"\"\n",
    "        mlflow.lightgbm.log_model(model, \"trained_best_model\", signature=signature)\n",
    "\n",
    "    def _suggest_hyperparameters(self, trial: optuna.Trial) -> Dict[str, Union[int, float, str]]:\n",
    "        return {\n",
    "            'num_leaves': trial.suggest_int('num_leaves', 31, 256),\n",
    "            'max_depth': trial.suggest_int('max_depth', -1, 16),\n",
    "            'learning_rate': trial.suggest_float('learning_rate', 1e-3, 1e-1, log=True),\n",
    "            'n_estimators': trial.suggest_int('n_estimators', 100, 1000),\n",
    "            'min_child_samples': trial.suggest_int('min_child_samples', 5, 100),\n",
    "            'subsample': trial.suggest_float('subsample', 0.4, 1.0),\n",
    "            'colsample_bytree': trial.suggest_float('colsample_bytree', 0.4, 1.0),\n",
    "            'reg_alpha': trial.suggest_float('reg_alpha', 1e-8, 1.0, log=True),\n",
    "            'reg_lambda': trial.suggest_float('reg_lambda', 1e-8, 1.0, log=True),\n",
    "            'min_data_in_leaf': trial.suggest_int('min_data_in_leaf', 1, 20),\n",
    "            'min_data_in_bin': trial.suggest_int('min_data_in_bin', 1, 20)\n",
    "        }"
   ]
  },
  {
   "cell_type": "markdown",
   "metadata": {},
   "source": [
    "2. Load dataset"
   ]
  },
  {
   "cell_type": "code",
   "execution_count": 2,
   "metadata": {},
   "outputs": [],
   "source": [
    "from sklearn.datasets import load_wine\n",
    "from sklearn.model_selection import train_test_split\n",
    "\n",
    "X, y = load_wine(return_X_y=True)\n",
    "X_train, X_test, y_train, y_test = train_test_split(X, y, test_size=0.2, random_state=42, shuffle=True)"
   ]
  },
  {
   "cell_type": "markdown",
   "metadata": {},
   "source": [
    "3. Define experiment parameters"
   ]
  },
  {
   "cell_type": "code",
   "execution_count": 3,
   "metadata": {},
   "outputs": [],
   "source": [
    "EXPERIMENT_NAME = 'UC6_train_custom_model'\n",
    "TUNING_TRIALS = 50\n",
    "classifier = LGBMTunable(X_train, y_train, X_test, y_test)\n",
    "\n",
    "hyperparameters ={\n",
    "            'num_leaves': 31,\n",
    "            'max_depth':8,\n",
    "            'learning_rate':1e-4,\n",
    "            'n_estimators': 100,\n",
    "        }"
   ]
  },
  {
   "cell_type": "markdown",
   "metadata": {},
   "source": [
    "4. Run tuning"
   ]
  },
  {
   "cell_type": "code",
   "execution_count": null,
   "metadata": {},
   "outputs": [],
   "source": [
    "classifier.train(experiment_name=EXPERIMENT_NAME, hyperparameters=hyperparameters)"
   ]
  },
  {
   "cell_type": "markdown",
   "metadata": {},
   "source": [
    "5. Analyze tuning process\n",
    "\n",
    "Tuning statistics are available on address: http://127.0.0.1:5000/."
   ]
  },
  {
   "cell_type": "markdown",
   "metadata": {},
   "source": [
    "6. Close MLFlow for this experiment"
   ]
  },
  {
   "cell_type": "code",
   "execution_count": null,
   "metadata": {},
   "outputs": [],
   "source": [
    "classifier.logger._close_mlflow()"
   ]
  }
 ],
 "metadata": {
  "kernelspec": {
   "display_name": "Python 3",
   "language": "python",
   "name": "python3"
  },
  "language_info": {
   "codemirror_mode": {
    "name": "ipython",
    "version": 3
   },
   "file_extension": ".py",
   "mimetype": "text/x-python",
   "name": "python",
   "nbconvert_exporter": "python",
   "pygments_lexer": "ipython3",
   "version": "3.12.4"
  }
 },
 "nbformat": 4,
 "nbformat_minor": 2
}
