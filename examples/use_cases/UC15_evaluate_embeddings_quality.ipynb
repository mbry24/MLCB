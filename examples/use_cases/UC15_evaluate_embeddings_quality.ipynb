{
 "cells": [
  {
   "cell_type": "markdown",
   "metadata": {},
   "source": [
    "[UC15] Dataset embeddings quality evaluation"
   ]
  },
  {
   "cell_type": "markdown",
   "metadata": {},
   "source": [
    "1. Load datasets"
   ]
  },
  {
   "cell_type": "code",
   "execution_count": 1,
   "metadata": {},
   "outputs": [],
   "source": [
    "import pandas as pd\n",
    "from sklearn.model_selection import train_test_split\n",
    "\n",
    "feather_embedding_dataset = pd.read_csv('../data/Mutagenicity/Feather_Graph_Embedding_embeddings.csv')\n",
    "\n",
    "ldp_embedding_dataset = pd.read_csv('../data/Mutagenicity/LDP_Embedding_embeddings.csv')\n",
    "\n",
    "graph_and_node_centrality_embedding_dataset = pd.read_csv('../data/Mutagenicity/Graph_and_Node_Centrality_Embedding_embeddings.csv')\n",
    "\n",
    "wavelet_characteristic_embedding_embeddings_dataset = pd.read_csv('../data/Mutagenicity/Wavelet_Characteristic_Embedding_embeddings.csv')\n",
    "\n",
    "DATASETS = [\n",
    "    {\"name\": \"feather_embedding_dataset\", \"data\": feather_embedding_dataset.to_numpy()},\n",
    "    {\"name\": \"ldp_embedding_dataset\", \"data\": ldp_embedding_dataset.to_numpy()},\n",
    "    {\"name\": \"graph_and_node_centrality_embedding_dataset\", \"data\": graph_and_node_centrality_embedding_dataset.to_numpy()},\n",
    "    {\"name\": \"wavelet_characteristic_embedding_embeddings_dataset\", \"data\": wavelet_characteristic_embedding_embeddings_dataset.to_numpy()}\n",
    "]"
   ]
  },
  {
   "cell_type": "markdown",
   "metadata": {},
   "source": [
    "2. Define experiment parameters"
   ]
  },
  {
   "cell_type": "code",
   "execution_count": 2,
   "metadata": {},
   "outputs": [],
   "source": [
    "from mlcb.models.tabular.sklearn import MLPTunable\n",
    "\n",
    "EXPERIMENT_NAME = 'UC15_evaluate_dataset_embeddings_quality'\n",
    "\n",
    "hyperparameters =  {\n",
    "            'hidden_layer_sizes': (150, 150, 250),\n",
    "            'activation': 'relu',\n",
    "            'alpha': 1e-5,\n",
    "            'max_iter': 2000,\n",
    "            'early_stopping': True,\n",
    "            'n_iter_no_change': 5,\n",
    "        }"
   ]
  },
  {
   "cell_type": "markdown",
   "metadata": {},
   "source": [
    "3. Run embeddings testing"
   ]
  },
  {
   "cell_type": "code",
   "execution_count": null,
   "metadata": {},
   "outputs": [],
   "source": [
    "for dataset in DATASETS:\n",
    "    X = dataset['data'][:, :-1]\n",
    "    y = dataset['data'][:, -1]\n",
    "    X_train, X_test, y_train, y_test = train_test_split(X, y, test_size=0.2, random_state=42, shuffle=True)\n",
    "    cls = MLPTunable(X_train, y_train, X_test, y_test)\n",
    "    cls.train(experiment_name=EXPERIMENT_NAME, run_name=dataset['name'], hyperparameters=hyperparameters)"
   ]
  },
  {
   "cell_type": "markdown",
   "metadata": {},
   "source": [
    "4. Analyze training process\n",
    "\n",
    "Tuning statistics are available on address: http://127.0.0.1:5000/."
   ]
  },
  {
   "cell_type": "markdown",
   "metadata": {},
   "source": [
    "5. Close MLFlow for this experiment"
   ]
  },
  {
   "cell_type": "code",
   "execution_count": null,
   "metadata": {},
   "outputs": [],
   "source": [
    "cls.logger._close_mlflow()"
   ]
  }
 ],
 "metadata": {
  "kernelspec": {
   "display_name": "Python 3",
   "language": "python",
   "name": "python3"
  },
  "language_info": {
   "codemirror_mode": {
    "name": "ipython",
    "version": 3
   },
   "file_extension": ".py",
   "mimetype": "text/x-python",
   "name": "python",
   "nbconvert_exporter": "python",
   "pygments_lexer": "ipython3",
   "version": "3.12.4"
  }
 },
 "nbformat": 4,
 "nbformat_minor": 2
}
