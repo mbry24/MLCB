{
 "cells": [
  {
   "cell_type": "markdown",
   "metadata": {},
   "source": [
    "[UC14] Compare mixed classifiers"
   ]
  },
  {
   "cell_type": "markdown",
   "metadata": {},
   "source": [
    "1. Load datasets"
   ]
  },
  {
   "cell_type": "code",
   "execution_count": 1,
   "metadata": {},
   "outputs": [],
   "source": [
    "import numpy as np\n",
    "from mlcb.base_classes.pytorch.NetworkxGraphDataset import NetworkxGraphDataset\n",
    "\n",
    "train_dataset = NetworkxGraphDataset('../data/AIDS/AIDS_dataset.pkl', split='train')\n",
    "test_dataset = NetworkxGraphDataset('../data/AIDS/AIDS_dataset.pkl', split='test')\n",
    "num_node_features = train_dataset.num_node_features\n",
    "\n",
    "train_labels = np.array([data.y.item() for data in train_dataset])\n",
    "test_labels =  np.array([data.y.item() for data in test_dataset])"
   ]
  },
  {
   "cell_type": "code",
   "execution_count": 2,
   "metadata": {},
   "outputs": [],
   "source": [
    "import pandas as pd\n",
    "from sklearn.model_selection import train_test_split\n",
    "\n",
    "feather_embedding_dataset = pd.read_csv('../data/AIDS/Feather_Graph_Embedding_embeddings.csv')\n",
    "feather_embedding_dataset= feather_embedding_dataset.to_numpy()\n",
    "X = feather_embedding_dataset[:, :-1]\n",
    "y = feather_embedding_dataset[:, -1] \n",
    "X_train, X_test, y_train, y_test = train_test_split(X, y, test_size=0.2, random_state=42, shuffle=True)"
   ]
  },
  {
   "cell_type": "markdown",
   "metadata": {},
   "source": [
    "2. Define experiment parameters"
   ]
  },
  {
   "cell_type": "code",
   "execution_count": 3,
   "metadata": {},
   "outputs": [],
   "source": [
    "from mlcb.models.tabular.sklearn import ExtraTreesTunable\n",
    "from mlcb.models.graph.pytorch import GatNetworkTunable\n",
    "\n",
    "EXPERIMENT_NAME = 'UC14_compare_mixed_classificators'\n",
    "TUNING_TRIALS = 20\n",
    "\n",
    "tabular_classifier = ExtraTreesTunable(X_train, y_train, X_test, y_test)\n",
    "graph_classifier = GatNetworkTunable(train_dataset, test_dataset, train_labels, test_labels, num_node_features)"
   ]
  },
  {
   "cell_type": "markdown",
   "metadata": {},
   "source": [
    "3. Run tuning"
   ]
  },
  {
   "cell_type": "code",
   "execution_count": null,
   "metadata": {},
   "outputs": [],
   "source": [
    "tabular_classifier.tune(n_trials=TUNING_TRIALS, experiment_name=EXPERIMENT_NAME)\n",
    "graph_classifier.tune(n_trials=TUNING_TRIALS, experiment_name=EXPERIMENT_NAME)"
   ]
  },
  {
   "cell_type": "markdown",
   "metadata": {},
   "source": [
    "4. Analyze tuning process\n",
    "\n",
    "Tuning statistics are available on address: http://127.0.0.1:5000/."
   ]
  },
  {
   "cell_type": "markdown",
   "metadata": {},
   "source": [
    "5. Close MLFlow for this experiment"
   ]
  },
  {
   "cell_type": "code",
   "execution_count": null,
   "metadata": {},
   "outputs": [],
   "source": [
    "tabular_classifier.logger._close_mlflow()\n",
    "graph_classifier.logger._close_mlflow()"
   ]
  }
 ],
 "metadata": {
  "kernelspec": {
   "display_name": "Python 3",
   "language": "python",
   "name": "python3"
  },
  "language_info": {
   "codemirror_mode": {
    "name": "ipython",
    "version": 3
   },
   "file_extension": ".py",
   "mimetype": "text/x-python",
   "name": "python",
   "nbconvert_exporter": "python",
   "pygments_lexer": "ipython3",
   "version": "3.12.4"
  }
 },
 "nbformat": 4,
 "nbformat_minor": 2
}
