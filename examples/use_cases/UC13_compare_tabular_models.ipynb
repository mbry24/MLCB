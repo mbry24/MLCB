{
 "cells": [
  {
   "cell_type": "markdown",
   "metadata": {},
   "source": [
    "[UC13] Compare tabular classifiers"
   ]
  },
  {
   "cell_type": "markdown",
   "metadata": {},
   "source": [
    "1. Load dataset"
   ]
  },
  {
   "cell_type": "code",
   "execution_count": 1,
   "metadata": {},
   "outputs": [],
   "source": [
    "from sklearn.datasets import load_wine\n",
    "from sklearn.model_selection import train_test_split\n",
    "\n",
    "X, y = load_wine(return_X_y=True)\n",
    "X_train, X_test, y_train, y_test = train_test_split(X, y, test_size=0.2, random_state=42, shuffle=True)"
   ]
  },
  {
   "cell_type": "markdown",
   "metadata": {},
   "source": [
    "2. Define experiment parameters"
   ]
  },
  {
   "cell_type": "markdown",
   "metadata": {},
   "source": [
    "Note: For executing multiple models, it's better to run trials sequentially rather than in a loop to avoid potential memory issues. I am still awaiting optimizations from the Optuna library."
   ]
  },
  {
   "cell_type": "code",
   "execution_count": 2,
   "metadata": {},
   "outputs": [],
   "source": [
    "from mlcb.models.tabular.sklearn import ExtraTreesTunable\n",
    "from mlcb.models.tabular.pytorch import PytorchMoETunable\n",
    "from mlcb.models.tabular.pytorch_tabular import PyTorchTabularCategoryEmbeddingNetworkTunable\n",
    "from mlcb.models.tabular.tensorflow import TensorflowConvolutionalNetworkTunable\n",
    "\n",
    "EXPERIMENT_NAME = 'UC13_compare_tabular_classificators'\n",
    "TUNING_TRIALS = 10\n",
    "\n",
    "classifiers = [ExtraTreesTunable, \n",
    "               PytorchMoETunable, \n",
    "               PyTorchTabularCategoryEmbeddingNetworkTunable,\n",
    "               TensorflowConvolutionalNetworkTunable]\n"
   ]
  },
  {
   "cell_type": "markdown",
   "metadata": {},
   "source": [
    "3. Tune classifiers"
   ]
  },
  {
   "cell_type": "code",
   "execution_count": null,
   "metadata": {},
   "outputs": [],
   "source": [
    "for classifier in classifiers:\n",
    "    classifier = classifier(X_train, y_train, X_test, y_test)\n",
    "    classifier.tune(n_trials=TUNING_TRIALS, experiment_name=EXPERIMENT_NAME)"
   ]
  },
  {
   "cell_type": "markdown",
   "metadata": {},
   "source": [
    "4. Analyze tuning process\n",
    "\n",
    "Tuning statistics are available on address: http://127.0.0.1:5000/."
   ]
  },
  {
   "cell_type": "markdown",
   "metadata": {},
   "source": [
    "5. Close MLFlow for this experiment"
   ]
  },
  {
   "cell_type": "code",
   "execution_count": null,
   "metadata": {},
   "outputs": [],
   "source": [
    "classifier.logger._close_mlflow()"
   ]
  }
 ],
 "metadata": {
  "kernelspec": {
   "display_name": "Python 3",
   "language": "python",
   "name": "python3"
  },
  "language_info": {
   "codemirror_mode": {
    "name": "ipython",
    "version": 3
   },
   "file_extension": ".py",
   "mimetype": "text/x-python",
   "name": "python",
   "nbconvert_exporter": "python",
   "pygments_lexer": "ipython3",
   "version": "3.12.4"
  }
 },
 "nbformat": 4,
 "nbformat_minor": 2
}
